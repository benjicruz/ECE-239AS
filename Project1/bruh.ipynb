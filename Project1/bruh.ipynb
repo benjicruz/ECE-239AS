{
 "cells": [
  {
   "cell_type": "code",
   "execution_count": 5,
   "id": "82c19d8e",
   "metadata": {},
   "outputs": [
    {
     "name": "stdout",
     "output_type": "stream",
     "text": [
      "x is 1\n",
      "y is  1\n",
      "1\n",
      "x is -1\n",
      "y is  2\n",
      "-2\n",
      "x is -2\n",
      "y is  1\n",
      "-2\n",
      "x is -1\n",
      "y is  -1\n",
      "1\n",
      "x is 1\n",
      "y is  -2\n",
      "-2\n",
      "x is 2\n",
      "y is  -1\n",
      "-2\n",
      "x is 1\n",
      "y is  1\n",
      "1\n"
     ]
    }
   ],
   "source": [
    "import numpy\n",
    "\n",
    "def fxy(x, y):\n",
    "    return x*y\n",
    "def grad_x(x, y):\n",
    "    return y\n",
    "def grad_y(x, y):\n",
    "    return x\n",
    "\n",
    "x = 1\n",
    "y = 1\n",
    "for _ in range(7):\n",
    "    print(\"x is\", x)\n",
    "    print(\"y is \", y)\n",
    "    print(fxy(x, y))\n",
    "    y = y + grad_y(x, y)\n",
    "    x = x - grad_x(x, y)\n",
    "    "
   ]
  },
  {
   "cell_type": "code",
   "execution_count": null,
   "id": "c9e9552a",
   "metadata": {},
   "outputs": [],
   "source": []
  }
 ],
 "metadata": {
  "kernelspec": {
   "display_name": "base",
   "language": "python",
   "name": "python3"
  },
  "language_info": {
   "codemirror_mode": {
    "name": "ipython",
    "version": 3
   },
   "file_extension": ".py",
   "mimetype": "text/x-python",
   "name": "python",
   "nbconvert_exporter": "python",
   "pygments_lexer": "ipython3",
   "version": "3.12.9"
  }
 },
 "nbformat": 4,
 "nbformat_minor": 5
}
